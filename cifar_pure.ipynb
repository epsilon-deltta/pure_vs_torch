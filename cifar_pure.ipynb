{
 "cells": [
  {
   "cell_type": "code",
   "execution_count": 16,
   "id": "abd50b3f-2849-4117-ad24-33fbaf2f5d02",
   "metadata": {},
   "outputs": [],
   "source": [
    "# Importing libraries\n",
    "\n",
    "from logging import raiseExceptions\n",
    "import os\n",
    "import pickle\n",
    "from tqdm import tqdm\n",
    "import mnist\n",
    "import numpy as np\n",
    "from conv import Conv3x3, Conv3x3_n_to_n_padding, Conv3x3_1_to_n_padding\n",
    "from maxpool import MaxPool2\n",
    "from softmax import Softmax\n",
    "from relu import Relu\n",
    "from softmax_test import Softmax_test\n",
    "from fc import FC\n",
    "\n",
    "# Define settings for run\n",
    "\n",
    "debug=False\n",
    "\n",
    "shuffle_data=False\n",
    "\n",
    "run_train=True\n",
    "run_val=True\n",
    "\n",
    "load_saved_weights=False\n",
    "weight_file='weights/best_99.pkl'\n",
    "\n",
    "total_epoch=100\n",
    "training_acc_internal=1000\n",
    "\n",
    "lr, max_acc = 0.005, 0 "
   ]
  },
  {
   "cell_type": "markdown",
   "id": "6e68b96b-461d-4436-abab-5b05668ccc6e",
   "metadata": {},
   "source": [
    "# Model and ETC "
   ]
  },
  {
   "cell_type": "code",
   "execution_count": 26,
   "id": "662fc3c5-217f-4210-b1a8-d115d6916175",
   "metadata": {},
   "outputs": [],
   "source": [
    "# MNIST \n",
    "# Initialize the network layers\n",
    "\n",
    "conv0   = Conv3x3_n_to_n_padding( output=8     ,   input=3       )     # 14x14x8   -> 14x14x16 (Convolution with 8 filters)\n",
    "# conv0   = Conv3x3_1_to_n_padding( output=8                        )     # 28x28x1   -> 28x28x8  (Convolution with 8 filters)\n",
    "pool0   = MaxPool2              (                                 )     # 28x28x8   -> 14x14x8  (MaxPooling 2x2)\n",
    "conv1   = Conv3x3_n_to_n_padding( output=16     ,   input=8       )     # 14x14x8   -> 14x14x16 (Convolution with 8 filters)\n",
    "pool1   = MaxPool2              (                                 )     # 14x14x16  -> 07x07x16 (MaxPooling 2x2)\n",
    "# conv2   = Conv3x3_n_to_n_padding( output=32     ,   input=16      )\n",
    "# conv3   = Conv3x3_n_to_n_padding( output=64     ,   input=32      )\n",
    "fc0     = FC                    ( 7 * 7 * 16  ,   7 * 7 * 16      )     # 784       -> 784      (FC)\n",
    "fc1     = FC                    ( 7 * 7 * 16  ,   10              )     # 784       -> 10       (FC)\n",
    "softmax = Softmax               (                                 )     # 13x13x8   -> 10       (Softmax)\n",
    "relu    = Relu                  (                                 )     # 13x13x8   -> 10       (Softmax)"
   ]
  },
  {
   "cell_type": "code",
   "execution_count": 54,
   "id": "5df524ae-21f1-46a8-9f6f-e65179df7576",
   "metadata": {},
   "outputs": [],
   "source": [
    "# CIFAR\n",
    "# Initialize the network layers\n",
    "\n",
    "conv0   = Conv3x3_n_to_n_padding( output=8     ,   input=3       )     # 32x32x3   -> 32x32x8\n",
    "pool0   = MaxPool2              (                                 )     # 32x32x8   -> 16x16x8  (MaxPooling 2x2)\n",
    "conv1   = Conv3x3_n_to_n_padding( output=16     ,   input=8       )     # 16x16x8   -> 16x16x16 (Convolution with 8 filters)\n",
    "pool1   = MaxPool2              (                                 )     # 16x16x16  -> 8x8x16 (MaxPooling 2x2)\n",
    "# conv2   = Conv3x3_n_to_n_padding( output=32     ,   input=16      )\n",
    "# conv3   = Conv3x3_n_to_n_padding( output=64     ,   input=32      )\n",
    "fc0     = FC                    ( 8 * 8 * 16  ,   8 * 8 * 8      )     # 1024       -> 512      (FC)\n",
    "fc1     = FC                    ( 8 * 8 * 8   ,   10              )    # 512       -> 10       (FC)\n",
    "\n",
    "# fc0     = FC                    ( 7 * 7 * 16  ,   7 * 7 * 16      )     # 784       -> 784      (FC)\n",
    "# fc1     = FC                    ( 7 * 7 * 16  ,   10              )     # 784       -> 10       (FC)\n",
    "softmax = Softmax               (                                 )     # 13x13x8   -> 10       (Softmax)\n",
    "relu    = Relu                  (                                 )     # 13x13x8   -> 10       (Softmax)"
   ]
  },
  {
   "cell_type": "markdown",
   "id": "e97b90f2-0229-4bf9-9a9e-7e3de5b6d6e3",
   "metadata": {},
   "source": [
    "## model test "
   ]
  },
  {
   "cell_type": "code",
   "execution_count": 60,
   "id": "19fd3001-a403-4aee-8d84-b482c145f6eb",
   "metadata": {},
   "outputs": [],
   "source": [
    "import numpy as np\n",
    "s = np.random.randint(0,255,(32,32,3)) # 3x32x32"
   ]
  },
  {
   "cell_type": "code",
   "execution_count": 56,
   "id": "d359b36c-f941-412d-8bcf-2437bc2f597d",
   "metadata": {},
   "outputs": [],
   "source": [
    "s = conv0.forward(s)\n",
    "s = pool0.forward(s)\n",
    "s = conv1.forward(s)\n",
    "s = pool1.forward(s)"
   ]
  },
  {
   "cell_type": "code",
   "execution_count": 57,
   "id": "38798e75-aa0a-464e-b9e0-413af8f2ff69",
   "metadata": {},
   "outputs": [],
   "source": [
    "s = fc0.forward(s)\n",
    "s = fc1.forward(s)"
   ]
  },
  {
   "cell_type": "code",
   "execution_count": 22,
   "id": "1f46bc4f-554e-449b-b1f4-808d7bd61ad4",
   "metadata": {},
   "outputs": [],
   "source": [
    "# Defining the network - Forward propagation\n",
    "def forward(im, label='noneed', debug=False):\n",
    "  im        = (im / 255) - 0.5  \n",
    "    \n",
    "  # Conv 0 with Pool\n",
    "  out_conv0 = conv0.forward   ( im            )\n",
    "  out_pool0 = pool0.forward   ( out_conv0     )\n",
    "  \n",
    "  # Conv 1 with Pool\n",
    "  out_conv1 = conv1.forward   ( out_pool0     )\n",
    "  out_pool1 = pool1.forward   ( out_conv1     )\n",
    "  \n",
    "  # Swap axes to realign for flattening\n",
    "  out_pool2 = np.swapaxes(out_pool1,0,2)\n",
    "  out_pool3 = np.swapaxes(out_pool2,1,2)\n",
    "  \n",
    "  # FC0 and Relu\n",
    "  out_fc0   = fc0.forward     ( out_pool3     )\n",
    "  \n",
    "  # FC1 and SoftMax\n",
    "  out_fc1   = fc1.forward     ( out_fc0       )\n",
    "  out_soft  = softmax.forward ( out_fc1       )\n",
    "  \n",
    "  if debug:\n",
    "    print(f\"Input Image: {im[-4]}\\n\")\n",
    "    print(f\"x_conv0 filters : {conv0.filters[0]}\\n\")\n",
    "    print(f\"x_conv0 : {out_conv0[:,:,0][-1]}\\n\")\n",
    "    print(f\"MaxPool0: {out_pool0[:,:,0][-1]}\\n\")\n",
    "    print(f\"x_conv1 filters : {conv1.filters[0,:,:,0]}\\n\")\n",
    "    print(f\"x_conv1 : {out_conv1[:,:,0][-1]}\\n\")\n",
    "    print(f\"MaxPool1: {out_pool1[:,:,0][-1]}\\n\")\n",
    "    print(f\"FC0 Weights: {fc0.weights[:,0][:10]}\\n\")\n",
    "    print(f\"FC0 output: {out_fc0[:10]}\\n\")\n",
    "    print(f\"FC1 Weights: {fc1.weights[:,0][:10]}\\n\")\n",
    "    print(f\"FC1 output: {out_fc1[:10]}\\n\")\n",
    "    print(f\"SoftMax output: {out_soft}\\n\")\n",
    "\n",
    "  return out_soft"
   ]
  },
  {
   "cell_type": "code",
   "execution_count": 112,
   "id": "3aa2d59d-9e52-4781-bcb9-38f9b6dca97e",
   "metadata": {},
   "outputs": [],
   "source": [
    "# Defining the network - Backward propagation\n",
    "def backward(label, out, loss=1, lr=0.005):\n",
    "  # Calculate initial gradient\n",
    "  gradient = np.zeros(10)\n",
    "  gradient[label] = -1 / out[label]\n",
    "  # gradient[label] = -loss / out[label]\n",
    "\n",
    "  # ------------------------------Backprop-----------------------------------\n",
    "  # SoftMax\n",
    "  gradient_softmax = softmax.backprop ( gradient                              )     \n",
    "\n",
    "  # FC1 and FC0 \n",
    "  gradient_fc1 = fc1.backprop         ( gradient_softmax  ,               lr  )\n",
    "  gradient_fc0 = fc0.backprop         ( gradient_fc1      ,               lr  )\n",
    "\n",
    "  # Swap axes to realign for flattening\n",
    "  gradient_swap0 = np.swapaxes        ( gradient_fc0      ,       1   ,   2   )\n",
    "  gradient_swap1 = np.swapaxes        ( gradient_swap0    ,       0   ,   2   )\n",
    "\n",
    "  # Conv 1 with Pool \n",
    "  gradient_pool1 = pool1.backprop     ( gradient_swap1                        )\n",
    "  gradient_conv1 = conv1.backprop     ( gradient_pool1     ,              lr  )\n",
    "\n",
    "  # Conv 0 with Pool \n",
    "  gradient_pool0 = pool0.backprop     ( gradient_conv1                        ) \n",
    "  gradient_conv0 = conv0.backprop     ( gradient_pool0     ,              lr  )\n",
    "  return None"
   ]
  },
  {
   "cell_type": "code",
   "execution_count": null,
   "id": "52c938d8-04e5-499e-b579-c6a25368b6fb",
   "metadata": {},
   "outputs": [],
   "source": [
    "# Defining the network - Loss Function (Cross Entropy)\n",
    "# Calculate cross-entropy loss and accuracy. np.log() is the natural log.\n",
    "def cal_loss(out_soft, label):\n",
    "  loss = -np.log(out_soft[label])\n",
    "  acc = 1 if np.argmax(out_soft) == label else 0\n",
    "  return out_soft, loss, acc"
   ]
  },
  {
   "cell_type": "markdown",
   "id": "427f2195-7daf-4847-8bcf-7cb0131879dc",
   "metadata": {},
   "source": [
    "# Dataset "
   ]
  },
  {
   "cell_type": "code",
   "execution_count": null,
   "id": "cb888baa-1ca1-41fa-ab79-5866ce102c10",
   "metadata": {},
   "outputs": [],
   "source": [
    "import torchvision\n",
    "torchvision.datasets.CIFAR10"
   ]
  },
  {
   "cell_type": "code",
   "execution_count": null,
   "id": "52de48d0-0c4e-469a-9a60-37cc3ae4ed16",
   "metadata": {},
   "outputs": [],
   "source": []
  },
  {
   "cell_type": "code",
   "execution_count": null,
   "id": "6e31cf1b-6426-46e1-86c3-c7d10abf58b2",
   "metadata": {},
   "outputs": [],
   "source": [
    "# MNIST\n",
    "import mnist\n",
    "# Importing the training dataset - MNIST Dataset\n",
    "\n",
    "train_images = mnist.train_images()\n",
    "train_labels = mnist.train_labels()\n",
    "test_images = mnist.test_images()\n",
    "test_labels = mnist.test_labels()\n",
    "\n",
    "# Shuffle Data\n",
    "permutation = np.random.permutation(len(train_images))\n",
    "train_images = train_images[permutation]\n",
    "train_labels = train_labels[permutation]"
   ]
  },
  {
   "cell_type": "code",
   "execution_count": 96,
   "id": "d657d1f3-b695-484a-8f23-756c604197f9",
   "metadata": {},
   "outputs": [
    {
     "name": "stdout",
     "output_type": "stream",
     "text": [
      "Files already downloaded and verified\n",
      "Files already downloaded and verified\n"
     ]
    }
   ],
   "source": [
    "# CIFAR10\n",
    "\n",
    "import torchvision\n",
    "from torch.utils.data import DataLoader\n",
    "from torchvision import datasets\n",
    "from torchvision.transforms import ToTensor, ToPILImage\n",
    "\n",
    "data_folder = '../../data/cifar'\n",
    "trdt = datasets.CIFAR10(\n",
    "    root=data_folder,\n",
    "    train=True,\n",
    "    download=True,\n",
    "    transform=ToTensor(),\n",
    ")\n",
    "tedt = datasets.CIFAR10(\n",
    "    root=data_folder,\n",
    "    train=False,\n",
    "    download=True,\n",
    "    transform=ToTensor(),\n",
    ")\n",
    "\n",
    "\n",
    "train_images = trdt.data\n",
    "train_labels = np.array(trdt.targets)\n",
    "test_images = tedt.data\n",
    "test_labels = np.array(tedt.targets)"
   ]
  },
  {
   "cell_type": "code",
   "execution_count": 97,
   "id": "6aab38c6-ae18-425f-b187-f40c5e2526a1",
   "metadata": {},
   "outputs": [],
   "source": [
    "# Shuffle Data\n",
    "permutation = np.random.permutation(len(train_images))\n",
    "train_images = train_images[permutation]\n",
    "train_labels = train_labels[permutation]"
   ]
  },
  {
   "cell_type": "markdown",
   "id": "3bd3294a-2617-40d3-bd8d-d3bedd0adf19",
   "metadata": {},
   "source": [
    "# train "
   ]
  },
  {
   "cell_type": "code",
   "execution_count": 113,
   "id": "464af877-0290-4c4e-8a1f-4059b1f60bc0",
   "metadata": {},
   "outputs": [],
   "source": [
    "# Defining the network - Loss Function (Cross Entropy)\n",
    "# Calculate cross-entropy loss and accuracy. np.log() is the natural log.\n",
    "def cal_loss(out_soft, label):\n",
    "  loss = -np.log(out_soft[label])\n",
    "  acc = 1 if np.argmax(out_soft) == label else 0\n",
    "  return out_soft, loss, acc\n",
    "\n",
    "# Defining the network - Training Function\n",
    "def train(im, label, debug=False, lr=.005):\n",
    "  pred = forward(im, label, debug)\n",
    "  out_soft, loss, acc = cal_loss(pred, label)\n",
    "  backward(label, out_soft, loss=loss, lr=0.005)\n",
    "  return loss, acc\n",
    "\n",
    "# Defining the network - Validation Function\n",
    "def val(im, label):\n",
    "  pred = forward(im, label)\n",
    "  out_soft, loss, acc = cal_loss(pred, label)\n",
    "  return loss, acc\n",
    "\n",
    "# Function definitions to save and load weight files\n",
    "\n",
    "def save_weights(name,lr=0,max_acc=0):\n",
    "  print(f\"\\nSaving new weights ({name}).\")\n",
    "  weights = dict()\n",
    "  weights[\"conv0\"]        = conv0.filters\n",
    "  weights[\"conv1\"]        = conv1.filters\n",
    "  weights[\"fc0_weights\"]  = fc0.weights\n",
    "  weights[\"fc0_biases\" ]  = fc0.biases\n",
    "  weights[\"fc1_weights\"]  = fc1.weights\n",
    "  weights[\"fc1_biases\" ]  = fc1.biases\n",
    "  weights[\"lr\" ]          = lr\n",
    "  weights[\"max_acc\"]      = max_acc\n",
    "  weight_file = open(str(name), \"wb\")\n",
    "  pickle.dump(weights, weight_file)\n",
    "  weight_file.close()\n",
    "  \n",
    "def load_weights(name):\n",
    "  if os.path.isfile(name): \n",
    "    weight_file = open(str(name), \"rb\")\n",
    "    weights = pickle.load(weight_file)\n",
    "    conv0.filters  = weights[\"conv0\"]      \n",
    "    conv1.filters  = weights[\"conv1\"]      \n",
    "    fc0.weights    = weights[\"fc0_weights\"]\n",
    "    fc0.biases     = weights[\"fc0_biases\" ]\n",
    "    fc1.weights    = weights[\"fc1_weights\"]\n",
    "    fc1.biases     = weights[\"fc1_biases\" ]\n",
    "    lr             = weights[\"lr\" ]\n",
    "    max_acc        = weights[\"max_acc\"]\n",
    "    print(f\"\\nLoading weights from {name} file. LR restored to {lr}. Last Accuracy {max_acc}%\")\n",
    "    return lr, max_acc\n",
    "  else:\n",
    "    print(\"Weights file not found.\")\n",
    "    lr=0.005\n",
    "    max_acc=0\n",
    "    return lr, max_acc\n",
    "\n",
    "# Defining the network - Adjust learning rate\n",
    "def adjust_lr(acc, lr=.005):\n",
    "  if   acc > 98: lr=0.00001\n",
    "  elif acc > 95: lr=0.0005\n",
    "  elif acc > 90: lr=0.001\n",
    "  elif acc > 80: lr=0.002\n",
    "  elif acc > 70: lr=0.003\n",
    "  elif acc > 60: lr=0.004\n",
    "  return lr"
   ]
  },
  {
   "cell_type": "code",
   "execution_count": null,
   "id": "eb811a11-0e0a-4796-860a-f594f2c08ba7",
   "metadata": {
    "tags": []
   },
   "outputs": [
    {
     "name": "stdout",
     "output_type": "stream",
     "text": [
      "Training Initialized.\n",
      "\tTotal number of training   images: 50000\n",
      "\tTotal number of validation images: 10000\n",
      "\tTraining will run for 100 epochs.\n",
      "\tResults will be logged after every 1000 images.\n",
      "\n",
      "--- Epoch 1 ---\n"
     ]
    },
    {
     "name": "stderr",
     "output_type": "stream",
     "text": [
      "1000it [02:50,  5.86it/s]"
     ]
    },
    {
     "name": "stdout",
     "output_type": "stream",
     "text": [
      "\n",
      "[Step 1000] : For 1000 iterations, the Avg Loss is 2.3 | Training Acc: 0.112 | LR: 1e-05\n"
     ]
    },
    {
     "name": "stderr",
     "output_type": "stream",
     "text": [
      "2000it [05:40,  5.90it/s]"
     ]
    },
    {
     "name": "stdout",
     "output_type": "stream",
     "text": [
      "\n",
      "[Step 2000] : For 1000 iterations, the Avg Loss is 2.16 | Training Acc: 0.208 | LR: 1e-05\n"
     ]
    },
    {
     "name": "stderr",
     "output_type": "stream",
     "text": [
      "3000it [08:30,  5.88it/s]"
     ]
    },
    {
     "name": "stdout",
     "output_type": "stream",
     "text": [
      "\n",
      "[Step 3000] : For 1000 iterations, the Avg Loss is 2.08 | Training Acc: 0.222 | LR: 1e-05\n"
     ]
    },
    {
     "name": "stderr",
     "output_type": "stream",
     "text": [
      "4000it [11:20,  5.87it/s]"
     ]
    },
    {
     "name": "stdout",
     "output_type": "stream",
     "text": [
      "\n",
      "[Step 4000] : For 1000 iterations, the Avg Loss is 1.99 | Training Acc: 0.277 | LR: 1e-05\n"
     ]
    },
    {
     "name": "stderr",
     "output_type": "stream",
     "text": [
      "5000it [14:11,  5.86it/s]"
     ]
    },
    {
     "name": "stdout",
     "output_type": "stream",
     "text": [
      "\n",
      "[Step 5000] : For 1000 iterations, the Avg Loss is 1.91 | Training Acc: 0.31 | LR: 1e-05\n"
     ]
    },
    {
     "name": "stderr",
     "output_type": "stream",
     "text": [
      "6000it [17:02,  5.82it/s]"
     ]
    },
    {
     "name": "stdout",
     "output_type": "stream",
     "text": [
      "\n",
      "[Step 6000] : For 1000 iterations, the Avg Loss is 1.92 | Training Acc: 0.293 | LR: 1e-05\n"
     ]
    },
    {
     "name": "stderr",
     "output_type": "stream",
     "text": [
      "7000it [19:53,  5.88it/s]"
     ]
    },
    {
     "name": "stdout",
     "output_type": "stream",
     "text": [
      "\n",
      "[Step 7000] : For 1000 iterations, the Avg Loss is 1.84 | Training Acc: 0.35 | LR: 1e-05\n"
     ]
    },
    {
     "name": "stderr",
     "output_type": "stream",
     "text": [
      "8000it [22:45,  5.83it/s]"
     ]
    },
    {
     "name": "stdout",
     "output_type": "stream",
     "text": [
      "\n",
      "[Step 8000] : For 1000 iterations, the Avg Loss is 1.8 | Training Acc: 0.374 | LR: 1e-05\n"
     ]
    },
    {
     "name": "stderr",
     "output_type": "stream",
     "text": [
      "9000it [25:36,  5.86it/s]"
     ]
    },
    {
     "name": "stdout",
     "output_type": "stream",
     "text": [
      "\n",
      "[Step 9000] : For 1000 iterations, the Avg Loss is 1.82 | Training Acc: 0.364 | LR: 1e-05\n"
     ]
    },
    {
     "name": "stderr",
     "output_type": "stream",
     "text": [
      "10000it [28:27,  5.86it/s]"
     ]
    },
    {
     "name": "stdout",
     "output_type": "stream",
     "text": [
      "\n",
      "[Step 10000] : For 1000 iterations, the Avg Loss is 1.76 | Training Acc: 0.387 | LR: 1e-05\n"
     ]
    },
    {
     "name": "stderr",
     "output_type": "stream",
     "text": [
      "11000it [31:18,  5.88it/s]"
     ]
    },
    {
     "name": "stdout",
     "output_type": "stream",
     "text": [
      "\n",
      "[Step 11000] : For 1000 iterations, the Avg Loss is 1.72 | Training Acc: 0.37 | LR: 1e-05\n"
     ]
    },
    {
     "name": "stderr",
     "output_type": "stream",
     "text": [
      "12000it [34:08,  5.86it/s]"
     ]
    },
    {
     "name": "stdout",
     "output_type": "stream",
     "text": [
      "\n",
      "[Step 12000] : For 1000 iterations, the Avg Loss is 1.72 | Training Acc: 0.406 | LR: 1e-05\n"
     ]
    },
    {
     "name": "stderr",
     "output_type": "stream",
     "text": [
      "13000it [36:58,  5.88it/s]"
     ]
    },
    {
     "name": "stdout",
     "output_type": "stream",
     "text": [
      "\n",
      "[Step 13000] : For 1000 iterations, the Avg Loss is 1.7 | Training Acc: 0.381 | LR: 1e-05\n"
     ]
    },
    {
     "name": "stderr",
     "output_type": "stream",
     "text": [
      "14000it [39:50,  5.85it/s]"
     ]
    },
    {
     "name": "stdout",
     "output_type": "stream",
     "text": [
      "\n",
      "[Step 14000] : For 1000 iterations, the Avg Loss is 1.66 | Training Acc: 0.411 | LR: 1e-05\n"
     ]
    },
    {
     "name": "stderr",
     "output_type": "stream",
     "text": [
      "15000it [42:41,  5.89it/s]"
     ]
    },
    {
     "name": "stdout",
     "output_type": "stream",
     "text": [
      "\n",
      "[Step 15000] : For 1000 iterations, the Avg Loss is 1.66 | Training Acc: 0.414 | LR: 1e-05\n"
     ]
    },
    {
     "name": "stderr",
     "output_type": "stream",
     "text": [
      "16000it [45:31,  5.88it/s]"
     ]
    },
    {
     "name": "stdout",
     "output_type": "stream",
     "text": [
      "\n",
      "[Step 16000] : For 1000 iterations, the Avg Loss is 1.64 | Training Acc: 0.399 | LR: 1e-05\n"
     ]
    },
    {
     "name": "stderr",
     "output_type": "stream",
     "text": [
      "17000it [48:22,  5.85it/s]"
     ]
    },
    {
     "name": "stdout",
     "output_type": "stream",
     "text": [
      "\n",
      "[Step 17000] : For 1000 iterations, the Avg Loss is 1.61 | Training Acc: 0.413 | LR: 1e-05\n"
     ]
    },
    {
     "name": "stderr",
     "output_type": "stream",
     "text": [
      "18000it [51:12,  5.87it/s]"
     ]
    },
    {
     "name": "stdout",
     "output_type": "stream",
     "text": [
      "\n",
      "[Step 18000] : For 1000 iterations, the Avg Loss is 1.57 | Training Acc: 0.436 | LR: 1e-05\n"
     ]
    },
    {
     "name": "stderr",
     "output_type": "stream",
     "text": [
      "19000it [54:03,  5.87it/s]"
     ]
    },
    {
     "name": "stdout",
     "output_type": "stream",
     "text": [
      "\n",
      "[Step 19000] : For 1000 iterations, the Avg Loss is 1.65 | Training Acc: 0.422 | LR: 1e-05\n"
     ]
    },
    {
     "name": "stderr",
     "output_type": "stream",
     "text": [
      "20000it [56:54,  5.84it/s]"
     ]
    },
    {
     "name": "stdout",
     "output_type": "stream",
     "text": [
      "\n",
      "[Step 20000] : For 1000 iterations, the Avg Loss is 1.54 | Training Acc: 0.455 | LR: 1e-05\n"
     ]
    },
    {
     "name": "stderr",
     "output_type": "stream",
     "text": [
      "21000it [59:45,  5.84it/s]"
     ]
    },
    {
     "name": "stdout",
     "output_type": "stream",
     "text": [
      "\n",
      "[Step 21000] : For 1000 iterations, the Avg Loss is 1.64 | Training Acc: 0.411 | LR: 1e-05\n"
     ]
    },
    {
     "name": "stderr",
     "output_type": "stream",
     "text": [
      "22000it [1:02:35,  5.90it/s]"
     ]
    },
    {
     "name": "stdout",
     "output_type": "stream",
     "text": [
      "\n",
      "[Step 22000] : For 1000 iterations, the Avg Loss is 1.58 | Training Acc: 0.445 | LR: 1e-05\n"
     ]
    },
    {
     "name": "stderr",
     "output_type": "stream",
     "text": [
      "23000it [1:05:26,  5.88it/s]"
     ]
    },
    {
     "name": "stdout",
     "output_type": "stream",
     "text": [
      "\n",
      "[Step 23000] : For 1000 iterations, the Avg Loss is 1.52 | Training Acc: 0.467 | LR: 1e-05\n"
     ]
    },
    {
     "name": "stderr",
     "output_type": "stream",
     "text": [
      "24000it [1:08:17,  5.88it/s]"
     ]
    },
    {
     "name": "stdout",
     "output_type": "stream",
     "text": [
      "\n",
      "[Step 24000] : For 1000 iterations, the Avg Loss is 1.57 | Training Acc: 0.429 | LR: 1e-05\n"
     ]
    },
    {
     "name": "stderr",
     "output_type": "stream",
     "text": [
      "25000it [1:11:07,  5.84it/s]"
     ]
    },
    {
     "name": "stdout",
     "output_type": "stream",
     "text": [
      "\n",
      "[Step 25000] : For 1000 iterations, the Avg Loss is 1.56 | Training Acc: 0.462 | LR: 1e-05\n"
     ]
    },
    {
     "name": "stderr",
     "output_type": "stream",
     "text": [
      "26000it [1:13:58,  5.85it/s]"
     ]
    },
    {
     "name": "stdout",
     "output_type": "stream",
     "text": [
      "\n",
      "[Step 26000] : For 1000 iterations, the Avg Loss is 1.6 | Training Acc: 0.41 | LR: 1e-05\n"
     ]
    },
    {
     "name": "stderr",
     "output_type": "stream",
     "text": [
      "27000it [1:16:49,  5.85it/s]"
     ]
    },
    {
     "name": "stdout",
     "output_type": "stream",
     "text": [
      "\n",
      "[Step 27000] : For 1000 iterations, the Avg Loss is 1.6 | Training Acc: 0.445 | LR: 1e-05\n"
     ]
    },
    {
     "name": "stderr",
     "output_type": "stream",
     "text": [
      "28000it [1:19:41,  5.81it/s]"
     ]
    },
    {
     "name": "stdout",
     "output_type": "stream",
     "text": [
      "\n",
      "[Step 28000] : For 1000 iterations, the Avg Loss is 1.56 | Training Acc: 0.471 | LR: 1e-05\n"
     ]
    },
    {
     "name": "stderr",
     "output_type": "stream",
     "text": [
      "29000it [1:22:33,  5.81it/s]"
     ]
    },
    {
     "name": "stdout",
     "output_type": "stream",
     "text": [
      "\n",
      "[Step 29000] : For 1000 iterations, the Avg Loss is 1.52 | Training Acc: 0.455 | LR: 1e-05\n"
     ]
    },
    {
     "name": "stderr",
     "output_type": "stream",
     "text": [
      "30000it [1:25:25,  5.82it/s]"
     ]
    },
    {
     "name": "stdout",
     "output_type": "stream",
     "text": [
      "\n",
      "[Step 30000] : For 1000 iterations, the Avg Loss is 1.51 | Training Acc: 0.441 | LR: 1e-05\n"
     ]
    },
    {
     "name": "stderr",
     "output_type": "stream",
     "text": [
      "31000it [1:28:17,  5.84it/s]"
     ]
    },
    {
     "name": "stdout",
     "output_type": "stream",
     "text": [
      "\n",
      "[Step 31000] : For 1000 iterations, the Avg Loss is 1.55 | Training Acc: 0.449 | LR: 1e-05\n"
     ]
    },
    {
     "name": "stderr",
     "output_type": "stream",
     "text": [
      "32000it [1:31:08,  5.86it/s]"
     ]
    },
    {
     "name": "stdout",
     "output_type": "stream",
     "text": [
      "\n",
      "[Step 32000] : For 1000 iterations, the Avg Loss is 1.54 | Training Acc: 0.466 | LR: 1e-05\n"
     ]
    },
    {
     "name": "stderr",
     "output_type": "stream",
     "text": [
      "33000it [1:33:59,  5.86it/s]"
     ]
    },
    {
     "name": "stdout",
     "output_type": "stream",
     "text": [
      "\n",
      "[Step 33000] : For 1000 iterations, the Avg Loss is 1.49 | Training Acc: 0.45 | LR: 1e-05\n"
     ]
    },
    {
     "name": "stderr",
     "output_type": "stream",
     "text": [
      "34000it [1:36:50,  5.90it/s]"
     ]
    },
    {
     "name": "stdout",
     "output_type": "stream",
     "text": [
      "\n",
      "[Step 34000] : For 1000 iterations, the Avg Loss is 1.52 | Training Acc: 0.464 | LR: 1e-05\n"
     ]
    },
    {
     "name": "stderr",
     "output_type": "stream",
     "text": [
      "35000it [1:39:40,  5.89it/s]"
     ]
    },
    {
     "name": "stdout",
     "output_type": "stream",
     "text": [
      "\n",
      "[Step 35000] : For 1000 iterations, the Avg Loss is 1.44 | Training Acc: 0.473 | LR: 1e-05\n"
     ]
    },
    {
     "name": "stderr",
     "output_type": "stream",
     "text": [
      "36000it [1:42:30,  5.89it/s]"
     ]
    },
    {
     "name": "stdout",
     "output_type": "stream",
     "text": [
      "\n",
      "[Step 36000] : For 1000 iterations, the Avg Loss is 1.51 | Training Acc: 0.46 | LR: 1e-05\n"
     ]
    },
    {
     "name": "stderr",
     "output_type": "stream",
     "text": [
      "37000it [1:45:20,  5.87it/s]"
     ]
    },
    {
     "name": "stdout",
     "output_type": "stream",
     "text": [
      "\n",
      "[Step 37000] : For 1000 iterations, the Avg Loss is 1.55 | Training Acc: 0.465 | LR: 1e-05\n"
     ]
    },
    {
     "name": "stderr",
     "output_type": "stream",
     "text": [
      "38000it [1:48:11,  5.84it/s]"
     ]
    },
    {
     "name": "stdout",
     "output_type": "stream",
     "text": [
      "\n",
      "[Step 38000] : For 1000 iterations, the Avg Loss is 1.49 | Training Acc: 0.484 | LR: 1e-05\n"
     ]
    },
    {
     "name": "stderr",
     "output_type": "stream",
     "text": [
      "39000it [1:51:02,  5.85it/s]"
     ]
    },
    {
     "name": "stdout",
     "output_type": "stream",
     "text": [
      "\n",
      "[Step 39000] : For 1000 iterations, the Avg Loss is 1.44 | Training Acc: 0.503 | LR: 1e-05\n"
     ]
    },
    {
     "name": "stderr",
     "output_type": "stream",
     "text": [
      "40000it [1:53:52,  5.88it/s]"
     ]
    },
    {
     "name": "stdout",
     "output_type": "stream",
     "text": [
      "\n",
      "[Step 40000] : For 1000 iterations, the Avg Loss is 1.49 | Training Acc: 0.468 | LR: 1e-05\n"
     ]
    },
    {
     "name": "stderr",
     "output_type": "stream",
     "text": [
      "41000it [1:56:43,  5.84it/s]"
     ]
    },
    {
     "name": "stdout",
     "output_type": "stream",
     "text": [
      "\n",
      "[Step 41000] : For 1000 iterations, the Avg Loss is 1.46 | Training Acc: 0.47 | LR: 1e-05\n"
     ]
    },
    {
     "name": "stderr",
     "output_type": "stream",
     "text": [
      "42000it [1:59:34,  5.86it/s]"
     ]
    },
    {
     "name": "stdout",
     "output_type": "stream",
     "text": [
      "\n",
      "[Step 42000] : For 1000 iterations, the Avg Loss is 1.48 | Training Acc: 0.497 | LR: 1e-05\n"
     ]
    },
    {
     "name": "stderr",
     "output_type": "stream",
     "text": [
      "43000it [2:02:25,  5.84it/s]"
     ]
    },
    {
     "name": "stdout",
     "output_type": "stream",
     "text": [
      "\n",
      "[Step 43000] : For 1000 iterations, the Avg Loss is 1.48 | Training Acc: 0.482 | LR: 1e-05\n"
     ]
    },
    {
     "name": "stderr",
     "output_type": "stream",
     "text": [
      "44000it [2:05:16,  5.83it/s]"
     ]
    },
    {
     "name": "stdout",
     "output_type": "stream",
     "text": [
      "\n",
      "[Step 44000] : For 1000 iterations, the Avg Loss is 1.48 | Training Acc: 0.473 | LR: 1e-05\n"
     ]
    },
    {
     "name": "stderr",
     "output_type": "stream",
     "text": [
      "45000it [2:08:06,  5.88it/s]"
     ]
    },
    {
     "name": "stdout",
     "output_type": "stream",
     "text": [
      "\n",
      "[Step 45000] : For 1000 iterations, the Avg Loss is 1.42 | Training Acc: 0.495 | LR: 1e-05\n"
     ]
    },
    {
     "name": "stderr",
     "output_type": "stream",
     "text": [
      "46000it [2:10:56,  5.86it/s]"
     ]
    },
    {
     "name": "stdout",
     "output_type": "stream",
     "text": [
      "\n",
      "[Step 46000] : For 1000 iterations, the Avg Loss is 1.49 | Training Acc: 0.476 | LR: 1e-05\n"
     ]
    },
    {
     "name": "stderr",
     "output_type": "stream",
     "text": [
      "47000it [2:13:46,  5.89it/s]"
     ]
    },
    {
     "name": "stdout",
     "output_type": "stream",
     "text": [
      "\n",
      "[Step 47000] : For 1000 iterations, the Avg Loss is 1.43 | Training Acc: 0.522 | LR: 1e-05\n"
     ]
    },
    {
     "name": "stderr",
     "output_type": "stream",
     "text": [
      "48000it [2:16:37,  5.85it/s]"
     ]
    },
    {
     "name": "stdout",
     "output_type": "stream",
     "text": [
      "\n",
      "[Step 48000] : For 1000 iterations, the Avg Loss is 1.42 | Training Acc: 0.516 | LR: 1e-05\n"
     ]
    },
    {
     "name": "stderr",
     "output_type": "stream",
     "text": [
      "49000it [2:19:28,  5.85it/s]"
     ]
    },
    {
     "name": "stdout",
     "output_type": "stream",
     "text": [
      "\n",
      "[Step 49000] : For 1000 iterations, the Avg Loss is 1.39 | Training Acc: 0.522 | LR: 1e-05\n"
     ]
    },
    {
     "name": "stderr",
     "output_type": "stream",
     "text": [
      "50000it [2:22:18,  5.86it/s]\n"
     ]
    },
    {
     "name": "stdout",
     "output_type": "stream",
     "text": [
      "\n",
      "[Step 50000] : For 1000 iterations, the Avg Loss is 1.44 | Training Acc: 0.503 | LR: 1e-05\n",
      "End of epoch 1\n",
      "\n",
      "\n",
      "Calculating validation scores at the end of epoch.\n"
     ]
    },
    {
     "name": "stderr",
     "output_type": "stream",
     "text": [
      "10000it [15:41, 10.62it/s]\n"
     ]
    },
    {
     "name": "stdout",
     "output_type": "stream",
     "text": [
      "Test Loss: 1.3296914374465154\n",
      "Test Accuracy: 0.5384\n",
      "\n",
      "--- Epoch 2 ---\n"
     ]
    },
    {
     "name": "stderr",
     "output_type": "stream",
     "text": [
      "1000it [02:49,  5.89it/s]"
     ]
    },
    {
     "name": "stdout",
     "output_type": "stream",
     "text": [
      "\n",
      "[Step 1000] : For 1000 iterations, the Avg Loss is 1.38 | Training Acc: 0.499 | LR: 1e-05\n"
     ]
    },
    {
     "name": "stderr",
     "output_type": "stream",
     "text": [
      "2000it [05:40,  5.87it/s]"
     ]
    },
    {
     "name": "stdout",
     "output_type": "stream",
     "text": [
      "\n",
      "[Step 2000] : For 1000 iterations, the Avg Loss is 1.37 | Training Acc: 0.513 | LR: 1e-05\n"
     ]
    },
    {
     "name": "stderr",
     "output_type": "stream",
     "text": [
      "3000it [08:30,  5.86it/s]"
     ]
    },
    {
     "name": "stdout",
     "output_type": "stream",
     "text": [
      "\n",
      "[Step 3000] : For 1000 iterations, the Avg Loss is 1.4 | Training Acc: 0.518 | LR: 1e-05\n"
     ]
    },
    {
     "name": "stderr",
     "output_type": "stream",
     "text": [
      "4000it [11:20,  5.85it/s]"
     ]
    },
    {
     "name": "stdout",
     "output_type": "stream",
     "text": [
      "\n",
      "[Step 4000] : For 1000 iterations, the Avg Loss is 1.41 | Training Acc: 0.496 | LR: 1e-05\n"
     ]
    },
    {
     "name": "stderr",
     "output_type": "stream",
     "text": [
      "5000it [14:10,  5.91it/s]"
     ]
    },
    {
     "name": "stdout",
     "output_type": "stream",
     "text": [
      "\n",
      "[Step 5000] : For 1000 iterations, the Avg Loss is 1.34 | Training Acc: 0.533 | LR: 1e-05\n"
     ]
    },
    {
     "name": "stderr",
     "output_type": "stream",
     "text": [
      "6000it [17:00,  5.88it/s]"
     ]
    },
    {
     "name": "stdout",
     "output_type": "stream",
     "text": [
      "\n",
      "[Step 6000] : For 1000 iterations, the Avg Loss is 1.41 | Training Acc: 0.495 | LR: 1e-05\n"
     ]
    },
    {
     "name": "stderr",
     "output_type": "stream",
     "text": [
      "7000it [19:50,  5.89it/s]"
     ]
    },
    {
     "name": "stdout",
     "output_type": "stream",
     "text": [
      "\n",
      "[Step 7000] : For 1000 iterations, the Avg Loss is 1.38 | Training Acc: 0.509 | LR: 1e-05\n"
     ]
    },
    {
     "name": "stderr",
     "output_type": "stream",
     "text": [
      "8000it [22:40,  5.90it/s]"
     ]
    },
    {
     "name": "stdout",
     "output_type": "stream",
     "text": [
      "\n",
      "[Step 8000] : For 1000 iterations, the Avg Loss is 1.33 | Training Acc: 0.528 | LR: 1e-05\n"
     ]
    },
    {
     "name": "stderr",
     "output_type": "stream",
     "text": [
      "9000it [25:30,  5.82it/s]"
     ]
    },
    {
     "name": "stdout",
     "output_type": "stream",
     "text": [
      "\n",
      "[Step 9000] : For 1000 iterations, the Avg Loss is 1.44 | Training Acc: 0.487 | LR: 1e-05\n"
     ]
    },
    {
     "name": "stderr",
     "output_type": "stream",
     "text": [
      "10000it [28:22,  5.83it/s]"
     ]
    },
    {
     "name": "stdout",
     "output_type": "stream",
     "text": [
      "\n",
      "[Step 10000] : For 1000 iterations, the Avg Loss is 1.37 | Training Acc: 0.537 | LR: 1e-05\n"
     ]
    },
    {
     "name": "stderr",
     "output_type": "stream",
     "text": [
      "11000it [31:14,  5.85it/s]"
     ]
    },
    {
     "name": "stdout",
     "output_type": "stream",
     "text": [
      "\n",
      "[Step 11000] : For 1000 iterations, the Avg Loss is 1.39 | Training Acc: 0.495 | LR: 1e-05\n"
     ]
    },
    {
     "name": "stderr",
     "output_type": "stream",
     "text": [
      "12000it [34:05,  5.86it/s]"
     ]
    },
    {
     "name": "stdout",
     "output_type": "stream",
     "text": [
      "\n",
      "[Step 12000] : For 1000 iterations, the Avg Loss is 1.35 | Training Acc: 0.547 | LR: 1e-05\n"
     ]
    },
    {
     "name": "stderr",
     "output_type": "stream",
     "text": [
      "13000it [36:56,  5.84it/s]"
     ]
    },
    {
     "name": "stdout",
     "output_type": "stream",
     "text": [
      "\n",
      "[Step 13000] : For 1000 iterations, the Avg Loss is 1.4 | Training Acc: 0.501 | LR: 1e-05\n"
     ]
    },
    {
     "name": "stderr",
     "output_type": "stream",
     "text": [
      "14000it [39:47,  5.84it/s]"
     ]
    },
    {
     "name": "stdout",
     "output_type": "stream",
     "text": [
      "\n",
      "[Step 14000] : For 1000 iterations, the Avg Loss is 1.4 | Training Acc: 0.513 | LR: 1e-05\n"
     ]
    },
    {
     "name": "stderr",
     "output_type": "stream",
     "text": [
      "15000it [42:38,  5.90it/s]"
     ]
    },
    {
     "name": "stdout",
     "output_type": "stream",
     "text": [
      "\n",
      "[Step 15000] : For 1000 iterations, the Avg Loss is 1.38 | Training Acc: 0.512 | LR: 1e-05\n"
     ]
    },
    {
     "name": "stderr",
     "output_type": "stream",
     "text": [
      "16000it [45:28,  5.86it/s]"
     ]
    },
    {
     "name": "stdout",
     "output_type": "stream",
     "text": [
      "\n",
      "[Step 16000] : For 1000 iterations, the Avg Loss is 1.36 | Training Acc: 0.533 | LR: 1e-05\n"
     ]
    },
    {
     "name": "stderr",
     "output_type": "stream",
     "text": [
      "17000it [48:19,  5.88it/s]"
     ]
    },
    {
     "name": "stdout",
     "output_type": "stream",
     "text": [
      "\n",
      "[Step 17000] : For 1000 iterations, the Avg Loss is 1.38 | Training Acc: 0.516 | LR: 1e-05\n"
     ]
    },
    {
     "name": "stderr",
     "output_type": "stream",
     "text": [
      "18000it [51:08,  5.88it/s]"
     ]
    },
    {
     "name": "stdout",
     "output_type": "stream",
     "text": [
      "\n",
      "[Step 18000] : For 1000 iterations, the Avg Loss is 1.32 | Training Acc: 0.533 | LR: 1e-05\n"
     ]
    },
    {
     "name": "stderr",
     "output_type": "stream",
     "text": [
      "19000it [53:58,  5.89it/s]"
     ]
    },
    {
     "name": "stdout",
     "output_type": "stream",
     "text": [
      "\n",
      "[Step 19000] : For 1000 iterations, the Avg Loss is 1.4 | Training Acc: 0.506 | LR: 1e-05\n"
     ]
    },
    {
     "name": "stderr",
     "output_type": "stream",
     "text": [
      "20000it [56:48,  5.90it/s]"
     ]
    },
    {
     "name": "stdout",
     "output_type": "stream",
     "text": [
      "\n",
      "[Step 20000] : For 1000 iterations, the Avg Loss is 1.31 | Training Acc: 0.539 | LR: 1e-05\n"
     ]
    },
    {
     "name": "stderr",
     "output_type": "stream",
     "text": [
      "21000it [59:38,  5.86it/s]"
     ]
    },
    {
     "name": "stdout",
     "output_type": "stream",
     "text": [
      "\n",
      "[Step 21000] : For 1000 iterations, the Avg Loss is 1.36 | Training Acc: 0.551 | LR: 1e-05\n"
     ]
    },
    {
     "name": "stderr",
     "output_type": "stream",
     "text": [
      "22000it [1:02:29,  5.83it/s]"
     ]
    },
    {
     "name": "stdout",
     "output_type": "stream",
     "text": [
      "\n",
      "[Step 22000] : For 1000 iterations, the Avg Loss is 1.39 | Training Acc: 0.51 | LR: 1e-05\n"
     ]
    },
    {
     "name": "stderr",
     "output_type": "stream",
     "text": [
      "23000it [1:05:21,  5.87it/s]"
     ]
    },
    {
     "name": "stdout",
     "output_type": "stream",
     "text": [
      "\n",
      "[Step 23000] : For 1000 iterations, the Avg Loss is 1.33 | Training Acc: 0.549 | LR: 1e-05\n"
     ]
    },
    {
     "name": "stderr",
     "output_type": "stream",
     "text": [
      "24000it [1:08:11,  5.90it/s]"
     ]
    },
    {
     "name": "stdout",
     "output_type": "stream",
     "text": [
      "\n",
      "[Step 24000] : For 1000 iterations, the Avg Loss is 1.4 | Training Acc: 0.495 | LR: 1e-05\n"
     ]
    },
    {
     "name": "stderr",
     "output_type": "stream",
     "text": [
      "25000it [1:11:01,  5.90it/s]"
     ]
    },
    {
     "name": "stdout",
     "output_type": "stream",
     "text": [
      "\n",
      "[Step 25000] : For 1000 iterations, the Avg Loss is 1.37 | Training Acc: 0.506 | LR: 1e-05\n"
     ]
    },
    {
     "name": "stderr",
     "output_type": "stream",
     "text": [
      "26000it [1:13:53,  5.54it/s]"
     ]
    },
    {
     "name": "stdout",
     "output_type": "stream",
     "text": [
      "\n",
      "[Step 26000] : For 1000 iterations, the Avg Loss is 1.39 | Training Acc: 0.501 | LR: 1e-05\n"
     ]
    },
    {
     "name": "stderr",
     "output_type": "stream",
     "text": [
      "26942it [1:16:44,  5.49it/s]"
     ]
    }
   ],
   "source": [
    " # Main function to run the training\n",
    "\n",
    "if run_train:\n",
    "  print(f'Training Initialized.')\n",
    "  print(f\"\\tTotal number of training   images: {len(train_labels)}\")\n",
    "  print(f\"\\tTotal number of validation images: {len(test_labels)}\")\n",
    "  print(f\"\\tTraining will run for {total_epoch} epochs.\")\n",
    "  print(f\"\\tResults will be logged after every {training_acc_internal} images.\")\n",
    "  for epoch in range(total_epoch):\n",
    "    print('\\n--- Epoch %d ---' % (epoch + 1))\n",
    "            \n",
    "    # Initialize Variables\n",
    "    loss, num_correct = 0, 0\n",
    "    for i, (im, label) in tqdm(enumerate(zip(train_images, train_labels))):\n",
    "      \n",
    "      # Logging results\n",
    "      if i % training_acc_internal == training_acc_internal-1:\n",
    "        lr = adjust_lr(num_correct)\n",
    "        print(f'\\n[Step {(i+1)}] : For {training_acc_internal} iterations, the Avg Loss is {np.round((loss / training_acc_internal),2)} | Training Acc: {num_correct/training_acc_internal} | LR: {lr}')\n",
    "        loss, num_correct = 0, 0\n",
    "    \n",
    "      # Train the network\n",
    "      l, acc = train(im, label, debug, lr=lr)\n",
    "      loss += l\n",
    "      num_correct += acc\n",
    "           \n",
    "    print(f\"End of epoch {epoch+1}\")      \n",
    "\n",
    "    print(f\"\\n\\nCalculating validation scores at the end of epoch.\")\n",
    "    loss, num_correct = 0, 0\n",
    "    for im, label in tqdm(zip(test_images, test_labels)):\n",
    "      l, acc = val(im, label)\n",
    "      loss += l\n",
    "      num_correct += acc\n",
    "    num_tests = len(test_images)\n",
    "    test_loss, test_acc =  loss / num_tests , num_correct / num_tests\n",
    "    print('Test Loss:', test_loss)\n",
    "    print('Test Accuracy:', test_acc)\n",
    "\n",
    "    if epoch == 0:\n",
    "      max_acc = test_acc\n",
    "    elif test_acc > max_acc: \n",
    "      max_acc = test_acc\n",
    "      save_weights(f'weights/cifar_best_{test_acc}.pkl', lr, max_acc)\n",
    "      save_weights(f'weights/cifar_last.pkl', lr, max_acc)"
   ]
  },
  {
   "cell_type": "code",
   "execution_count": null,
   "id": "870e6a79-1e85-4405-b98b-177a481c4acb",
   "metadata": {},
   "outputs": [],
   "source": []
  },
  {
   "cell_type": "markdown",
   "id": "cfedf810-e0d7-4b9e-9918-de920b71500d",
   "metadata": {},
   "source": [
    "# Prediction (display) "
   ]
  },
  {
   "cell_type": "markdown",
   "id": "8c5e8145-9885-4c1d-9901-e2831c889396",
   "metadata": {},
   "source": [
    "### load model and its pre-trained weights "
   ]
  },
  {
   "cell_type": "code",
   "execution_count": null,
   "id": "91a59aa2-2724-49e0-abaf-42e6482b66f4",
   "metadata": {},
   "outputs": [],
   "source": [
    "# CIFAR\n",
    "# Initialize the network layers\n",
    "\n",
    "conv0   = Conv3x3_n_to_n_padding( output=8     ,   input=3       )     # 32x32x3   -> 32x32x8\n",
    "pool0   = MaxPool2              (                                 )     # 32x32x8   -> 16x16x8  (MaxPooling 2x2)\n",
    "conv1   = Conv3x3_n_to_n_padding( output=16     ,   input=8       )     # 16x16x8   -> 16x16x16 (Convolution with 8 filters)\n",
    "pool1   = MaxPool2              (                                 )     # 16x16x16  -> 8x8x16 (MaxPooling 2x2)\n",
    "# conv2   = Conv3x3_n_to_n_padding( output=32     ,   input=16      )\n",
    "# conv3   = Conv3x3_n_to_n_padding( output=64     ,   input=32      )\n",
    "fc0     = FC                    ( 8 * 8 * 16  ,   8 * 8 * 8      )     # 1024       -> 512      (FC)\n",
    "fc1     = FC                    ( 8 * 8 * 8   ,   10              )    # 512       -> 10       (FC)\n",
    "\n",
    "# fc0     = FC                    ( 7 * 7 * 16  ,   7 * 7 * 16      )     # 784       -> 784      (FC)\n",
    "# fc1     = FC                    ( 7 * 7 * 16  ,   10              )     # 784       -> 10       (FC)\n",
    "softmax = Softmax               (                                 )     # 13x13x8   -> 10       (Softmax)\n",
    "relu    = Relu                  (                                 )     # 13x13x8   -> 10       (Softmax)"
   ]
  },
  {
   "cell_type": "code",
   "execution_count": null,
   "id": "c411cb17-dc2a-4cfd-b124-b7358a3a09e8",
   "metadata": {},
   "outputs": [],
   "source": [
    "lr, max_acc = load_weights('./weights/cifar_last.pkl')"
   ]
  },
  {
   "cell_type": "markdown",
   "id": "b276e591-4cf4-4a95-9aea-341100441101",
   "metadata": {},
   "source": [
    "### load sample data "
   ]
  },
  {
   "cell_type": "code",
   "execution_count": null,
   "id": "548c6147-b87a-4138-a8d2-6dda2835eb01",
   "metadata": {},
   "outputs": [],
   "source": [
    "# CIFAR10\n",
    "\n",
    "import torchvision\n",
    "from torch.utils.data import DataLoader\n",
    "from torchvision import datasets\n",
    "from torchvision.transforms import ToTensor, ToPILImage\n",
    "\n",
    "tedt = datasets.CIFAR10(\n",
    "    root=data_folder,\n",
    "    train=False,\n",
    "    download=True,\n",
    "    transform=ToTensor(),\n",
    ")\n",
    "\n",
    "tedl = DataLoader(tedt, batch_size=1)"
   ]
  },
  {
   "cell_type": "code",
   "execution_count": null,
   "id": "5ea0ce6d-98df-4c24-939e-23180a005550",
   "metadata": {},
   "outputs": [],
   "source": [
    "x,y = next(trit)\n",
    "\n",
    "# tensor(0-1) > pil(0-255) > np(0-255)\n",
    "topil = torchvision.transforms.ToPILImage()\n",
    "x = x.reshape(3,32,32)\n",
    "\n",
    "xpil = topil(x)\n",
    "xnp  = np.array(xpil)\n",
    "\n",
    "pre = forward(xnp).argmax()"
   ]
  },
  {
   "cell_type": "code",
   "execution_count": 101,
   "id": "36b7f083-e13b-4193-9793-0483d48d6593",
   "metadata": {},
   "outputs": [
    {
     "name": "stdout",
     "output_type": "stream",
     "text": [
      "prediction 7 gt tensor([7])\n"
     ]
    },
    {
     "data": {
      "image/png": "[encoded data removed]",
      "text/plain": [
       "<PIL.Image.Image image mode=L size=28x28 at 0x7FACC5B80DD8>"
      ]
     },
     "execution_count": 101,
     "metadata": {},
     "output_type": "execute_result"
    }
   ],
   "source": [
    "print('prediction',pre, 'gt',y)\n",
    "xpil"
   ]
  },
  {
   "cell_type": "code",
   "execution_count": 105,
   "id": "cda1accc-a01d-4019-83f6-5457b66b87b1",
   "metadata": {},
   "outputs": [
    {
     "name": "stdout",
     "output_type": "stream",
     "text": [
      "prediction 2 gt tensor([2])\n"
     ]
    },
    {
     "data": {
      "image/png": "[encoded data removed]",
      "text/plain": [
       "<PIL.Image.Image image mode=L size=28x28 at 0x7FACC5B8E128>"
      ]
     },
     "execution_count": 105,
     "metadata": {},
     "output_type": "execute_result"
    }
   ],
   "source": [
    "print('prediction',pre, 'gt',y)\n",
    "xpil"
   ]
  },
  {
   "cell_type": "code",
   "execution_count": 108,
   "id": "32c82358-586a-4dbf-a289-08522c2072ad",
   "metadata": {},
   "outputs": [
    {
     "name": "stdout",
     "output_type": "stream",
     "text": [
      "prediction 1 gt tensor([1])\n"
     ]
    },
    {
     "data": {
      "image/png": "[encoded data removed]",
      "text/plain": [
       "<PIL.Image.Image image mode=L size=28x28 at 0x7FACC5B8E470>"
      ]
     },
     "execution_count": 108,
     "metadata": {},
     "output_type": "execute_result"
    }
   ],
   "source": [
    "print('prediction',pre, 'gt',y)\n",
    "xpil"
   ]
  },
  {
   "cell_type": "code",
   "execution_count": 110,
   "id": "142fc7d7-0a0e-4869-b73e-ab6bac05fd57",
   "metadata": {},
   "outputs": [
    {
     "name": "stdout",
     "output_type": "stream",
     "text": [
      "prediction 0 gt tensor([0])\n"
     ]
    },
    {
     "data": {
      "image/png": "[encoded data removed]",
      "text/plain": [
       "<PIL.Image.Image image mode=L size=28x28 at 0x7FACC5B8E4A8>"
      ]
     },
     "execution_count": 110,
     "metadata": {},
     "output_type": "execute_result"
    }
   ],
   "source": [
    "print('prediction',pre, 'gt',y)\n",
    "xpil"
   ]
  },
  {
   "cell_type": "code",
   "execution_count": 112,
   "id": "55e17a56-1a13-46c6-affe-250a2cce2916",
   "metadata": {},
   "outputs": [
    {
     "name": "stdout",
     "output_type": "stream",
     "text": [
      "prediction 4 gt tensor([4])\n"
     ]
    },
    {
     "data": {
      "image/png": "[encoded data removed]",
      "text/plain": [
       "<PIL.Image.Image image mode=L size=28x28 at 0x7FACC5B8E5F8>"
      ]
     },
     "execution_count": 112,
     "metadata": {},
     "output_type": "execute_result"
    }
   ],
   "source": [
    "print('prediction',pre, 'gt',y)\n",
    "xpil"
   ]
  }
 ],
 "metadata": {
  "kernelspec": {
   "display_name": "torch0",
   "language": "python",
   "name": "torch0"
  },
  "language_info": {
   "codemirror_mode": {
    "name": "ipython",
    "version": 3
   },
   "file_extension": ".py",
   "mimetype": "text/x-python",
   "name": "python",
   "nbconvert_exporter": "python",
   "pygments_lexer": "ipython3",
   "version": "3.6.13"
  }
 },
 "nbformat": 4,
 "nbformat_minor": 5
}
