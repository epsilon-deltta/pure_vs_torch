{
 "cells": [
  {
   "cell_type": "code",
   "execution_count": 1,
   "id": "dbf6a50a-d739-4cc1-8949-0ac5a1b8b2fb",
   "metadata": {},
   "outputs": [],
   "source": [
    "from torch import nn"
   ]
  },
  {
   "cell_type": "code",
   "execution_count": 2,
   "id": "6627b008-e9b0-45b0-b65a-402f3836c236",
   "metadata": {},
   "outputs": [],
   "source": [
    "# Define Model\n",
    "class simple_network(nn.Module):\n",
    "    def __init__(self):\n",
    "        super(simple_network, self).__init__()\n",
    "        self.conv0   = nn.Conv2d    (   1,  8,   kernel_size=(3, 3),     bias=False  , padding=1)   \n",
    "        self.max0    = nn.MaxPool2d (            kernel_size=(2,2)                   )   \n",
    "        self.conv1   = nn.Conv2d    (   8,  16,  kernel_size=(3, 3),     bias=False , padding=1 )   \n",
    "        self.max1    = nn.MaxPool2d (            kernel_size=(2,2)                   )   \n",
    "        self.flat    = nn.Flatten   (                                                )   \n",
    "        self.linear0 = nn.Linear    (            784,  784                           )\n",
    "        self.linear1 = nn.Linear    (            784,  10                            )\n",
    "        self.soft    = nn.Softmax   (            dim=1                               )\n",
    "        \n",
    "        self.debug=False\n",
    "        \n",
    "\n",
    "    def forward(self,x):\n",
    "        x=x.to(torch.device(\"cpu\"))\n",
    "        x_conv0      = self.conv0     (   x              )  \n",
    "        x_max0       = self.max0      (   x_conv0        )\n",
    "        x_conv1      = self.conv1     (   x_max0         )  \n",
    "        x_max1       = self.max1      (   x_conv1        )\n",
    "        x_flat       = self.flat      (   x_max1         )\n",
    "        x_linear0    = self.linear0   (   x_flat         )\n",
    "        x_linear1    = self.linear1   (   x_linear0      )\n",
    "        x_prob       = self.soft      (   x_linear1      )\n",
    "\n",
    "        # TODO: Fix Learning Rate and Gradient Descent Method, check batch size\n",
    "        if self.debug:\n",
    "            im=x[0][0]\n",
    "            print(f\"Input Image: {im[-4]}\\n\")\n",
    "            \n",
    "            print(f\"conv0 filters: {model.state_dict()['conv0.weight'][0][0]}\\n\")\n",
    "            \n",
    "            print(f\"x_conv0 : {x_conv0[0,0,:,:][-1]}\\n\")\n",
    "\n",
    "            print(f\"MaxPool0: {x_max0[0,0][-1]}\\n\")\n",
    "            \n",
    "            print(f\"conv1 filters: {model.state_dict()['conv1.weight'][0][0]}\\n\")\n",
    "            \n",
    "            print(f\"x_conv1 : {x_conv1[0,0,:,:][-1]}\\n\")\n",
    "\n",
    "            print(f\"MaxPool1: {x_max1[0,0][-1]}\\n\")\n",
    "            \n",
    "            print(f\"FC0 Weight: {model.state_dict()['linear0.weight'][0][:10]}\\n\")\n",
    "            \n",
    "            print(f\"FC0 Output: {x_linear0[0,:10]}\\n\")\n",
    "            \n",
    "            print(f\"FC1 Weight: {model.state_dict()['linear1.weight'][0][:10]}\\n\")\n",
    "            \n",
    "            print(f\"FC1 Output: {x_linear1[0,:10]}\\n\")\n",
    "            \n",
    "            print(f\"SoftMax Output: {x_prob}\\n\")\n",
    "            \n",
    "        return x_prob"
   ]
  },
  {
   "cell_type": "code",
   "execution_count": 11,
   "id": "0e9e4b95-6397-4a9b-a4a7-82630d5a6825",
   "metadata": {},
   "outputs": [],
   "source": [
    "import torch\n",
    "import pickle\n",
    "# Function for copying weights from basic model \n",
    "def copy_weights(name=\"weights/last.pkl\"):\n",
    "    # TODO: To copy filter weights\n",
    "    # name = \"weights/debug.pkl\"\n",
    "    print(f\"Loading weights from {name}\")\n",
    "    weight_file = open(name, \"rb\")\n",
    "    weights = pickle.load(weight_file)\n",
    "    print(f\"\\nLoading weights from {name} file\")\n",
    "    \n",
    "    fconv0   = weights[\"conv0\"]  \n",
    "    fconv1   = weights[\"conv1\"]  \n",
    "    flinear0 = weights[\"fc0_weights\"]\n",
    "    blinear0 = weights[\"fc0_biases\" ]\n",
    "    flinear1 = weights[\"fc1_weights\"]\n",
    "    blinear1 = weights[\"fc1_biases\" ]\n",
    "\n",
    "    debug=False\n",
    "    for i in range(fconv0.shape[0]):\n",
    "        model.state_dict()['conv0.weight'][i][0]     = torch.from_numpy(fconv0[i]).double()\n",
    "        if debug: print(f\"Weights for Conv0 Filter {i} are {model.state_dict()['conv0.weight'][i][0][0]}   \")\n",
    "\n",
    "    for i in range(fconv1.shape[0]):\n",
    "        for j in range(fconv1.shape[3]):\n",
    "            model.state_dict()['conv1.weight'][i,j,:,:]     = torch.from_numpy(fconv1[i,:,:,j]).double()\n",
    "        if debug: print(f\"Weights for Conv1 Filter {i} are {model.state_dict()['conv1.weight'][i][0][0]}   \")\n",
    "\n",
    "    for i in range(flinear0.shape[1]):\n",
    "        model.state_dict()['linear0.weight'][i]      = torch.from_numpy(flinear0[:,i]).double()\n",
    "        if debug and i<10: print(f\"Weights for Linear Filter {i} are {model.state_dict()['linear0.weight'][i][:5]} \")\n",
    "        \n",
    "    for i in range(blinear0.shape[0]):\n",
    "        model.state_dict()['linear0.bias'][i]        = torch.tensor(blinear0[i]).double()\n",
    "        if debug and i<10: print(f\"Weights for Linear Bias   {i} are {model.state_dict()['linear0.bias'][i]}   \")\n",
    "    \n",
    "    for i in range(flinear1.shape[1]):\n",
    "        model.state_dict()['linear1.weight'][i]      = torch.from_numpy(flinear1[:,i]).double()\n",
    "        if debug and i<10: print(f\"Weights for Linear Filter {i} are {model.state_dict()['linear1.weight'][i][:5]} \")\n",
    "        \n",
    "    for i in range(blinear1.shape[0]):\n",
    "        model.state_dict()['linear1.bias'][i]        = torch.tensor(blinear1[i]).double()\n",
    "        if debug and i<10: print(f\"Weights for Linear Bias   {i} are {model.state_dict()['linear1.bias'][i]}   \")"
   ]
  },
  {
   "cell_type": "code",
   "execution_count": 43,
   "id": "c98cd4c0-cf2a-4edb-ab8a-3e1b0303c016",
   "metadata": {},
   "outputs": [],
   "source": [
    "# func to draw\n",
    "import torch\n",
    "import numpy as np\n",
    "import matplotlib.pyplot as plt\n",
    "\n",
    "import torchvision.transforms.functional as F\n",
    "\n",
    "\n",
    "plt.rcParams[\"savefig.bbox\"] = 'tight'\n",
    "\n",
    "\n",
    "def show(imgs):\n",
    "    if not isinstance(imgs, list):\n",
    "        imgs = [imgs]\n",
    "    fig, axs = plt.subplots(ncols=len(imgs), squeeze=False)\n",
    "    for i, img in enumerate(imgs):\n",
    "        img = img.detach()\n",
    "        img = F.to_pil_image(img)\n",
    "        axs[0, i].imshow(np.asarray(img))\n",
    "        axs[0, i].set(xticklabels=[], yticklabels=[], xticks=[], yticks=[])"
   ]
  },
  {
   "cell_type": "code",
   "execution_count": null,
   "id": "69cded6c-fdbf-48c2-87f1-1bfb4d176190",
   "metadata": {},
   "outputs": [],
   "source": []
  },
  {
   "cell_type": "code",
   "execution_count": 14,
   "id": "abaf0251-030a-4f4c-845b-3e371c3507c6",
   "metadata": {},
   "outputs": [
    {
     "name": "stdout",
     "output_type": "stream",
     "text": [
      "Loading weights from weights/last.pkl\n",
      "\n",
      "Loading weights from weights/last.pkl file\n"
     ]
    }
   ],
   "source": [
    "# load model\n",
    "model = simple_network()\n",
    "model.double()\n",
    "copy_weights()"
   ]
  },
  {
   "cell_type": "code",
   "execution_count": 49,
   "id": "2e6d4c95-9fd1-4708-b049-058980271ff7",
   "metadata": {},
   "outputs": [],
   "source": [
    "# load samples from MNIST test dataset\n",
    "from torch.utils.data import DataLoader\n",
    "from torchvision import datasets\n",
    "from torchvision.transforms import ToTensor\n",
    "\n",
    "data_folder = '../MNIST'\n",
    "tedt = datasets.MNIST(\n",
    "    root=data_folder,\n",
    "    train=False,\n",
    "    download=True,\n",
    "    transform=ToTensor(),\n",
    ")\n",
    "\n",
    "trdl = DataLoader(trdt, batch_size=5)\n",
    "\n",
    "trit = iter(trdl)\n",
    "x,y = next(trit)"
   ]
  },
  {
   "cell_type": "code",
   "execution_count": 50,
   "id": "8d810503-8d17-4ffe-b8ed-bd65a02f79f7",
   "metadata": {},
   "outputs": [
    {
     "data": {
      "image/png": "[encoded data removed]",
      "text/plain": [
       "<Figure size 432x288 with 1 Axes>"
      ]
     },
     "metadata": {},
     "output_type": "display_data"
    }
   ],
   "source": [
    "# draw samples\n",
    "from torchvision.utils import make_grid\n",
    "show(make_grid(x))"
   ]
  },
  {
   "cell_type": "code",
   "execution_count": 53,
   "id": "d6165a91-b47e-4cf0-a11c-a7a7d150e195",
   "metadata": {},
   "outputs": [],
   "source": [
    "# predict\n",
    "x = x.double()\n",
    "pre = model(x)\n",
    "\n",
    "pre_arg = pre.argmax(1)"
   ]
  },
  {
   "cell_type": "code",
   "execution_count": 76,
   "id": "9c33a8f5-8d35-44e9-8144-aa9032560a00",
   "metadata": {},
   "outputs": [
    {
     "name": "stdout",
     "output_type": "stream",
     "text": [
      "GT: [5, 0, 4, 1, 9] \n",
      "Pre: [3, 0, 4, 8, 9]\n"
     ]
    }
   ],
   "source": [
    "print(f'GT: {y.tolist()} \\nPre: {pre_arg.tolist()}')"
   ]
  }
 ],
 "metadata": {
  "kernelspec": {
   "display_name": "torch0",
   "language": "python",
   "name": "torch0"
  },
  "language_info": {
   "codemirror_mode": {
    "name": "ipython",
    "version": 3
   },
   "file_extension": ".py",
   "mimetype": "text/x-python",
   "name": "python",
   "nbconvert_exporter": "python",
   "pygments_lexer": "ipython3",
   "version": "3.6.13"
  }
 },
 "nbformat": 4,
 "nbformat_minor": 5
}
