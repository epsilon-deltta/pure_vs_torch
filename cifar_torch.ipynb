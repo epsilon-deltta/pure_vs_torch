{
 "cells": [
  {
   "cell_type": "code",
   "execution_count": 2,
   "id": "c450f6ae-b7c7-4faf-aabe-e062eb3501b9",
   "metadata": {},
   "outputs": [],
   "source": [
    "import torch\n",
    "import torchvision\n",
    "import torchvision.transforms as transforms\n",
    "import os\n",
    "\n",
    "batch_size = 4\n",
    "num_workers = int(os.cpu_count() / 2)\n",
    "data_folder = '../../data/cifar'\n",
    "\n",
    "\n",
    "device = 'cuda' if torch.cuda.is_available() else 'cpu'\n",
    "nepochs = 10"
   ]
  },
  {
   "cell_type": "markdown",
   "id": "d5002db6-874c-4fa1-a7d2-60d282d75e95",
   "metadata": {},
   "source": [
    "# DT"
   ]
  },
  {
   "cell_type": "code",
   "execution_count": 5,
   "id": "b80d1771-8496-4710-9e6b-3db07e393ac8",
   "metadata": {},
   "outputs": [
    {
     "name": "stdout",
     "output_type": "stream",
     "text": [
      "Files already downloaded and verified\n",
      "Files already downloaded and verified\n"
     ]
    }
   ],
   "source": [
    "transform = transforms.Compose(\n",
    "    [transforms.ToTensor(),\n",
    "     transforms.Normalize((0.5, 0.5, 0.5), (0.5, 0.5, 0.5))])\n",
    "\n",
    "trdt = torchvision.datasets.CIFAR10(root=data_folder, train=True,\n",
    "                                        download=True, transform=transform)\n",
    "\n",
    "tedt = torchvision.datasets.CIFAR10(root=data_folder, train=False,\n",
    "                                       download=True, transform=transform)\n",
    "\n",
    "trainloader = torch.utils.data.DataLoader(trdt, batch_size=batch_size,\n",
    "                                          shuffle=True, num_workers=num_workers)\n",
    "\n",
    "testloader = torch.utils.data.DataLoader(tedt, batch_size=batch_size,\n",
    "                                         shuffle=False, num_workers=num_workers)\n",
    "\n",
    "classes = ('plane', 'car', 'bird', 'cat', 'deer', 'dog', 'frog', 'horse', 'ship', 'truck')"
   ]
  },
  {
   "cell_type": "markdown",
   "id": "d16dba37-dac7-4f4c-a7b8-f45f8d3e28e9",
   "metadata": {},
   "source": [
    "# Net "
   ]
  },
  {
   "cell_type": "code",
   "execution_count": 6,
   "id": "c63fcf5e-f3b6-40de-9871-b4f28e26d802",
   "metadata": {},
   "outputs": [],
   "source": [
    "import torch.nn as nn\n",
    "from tqdm import tqdm\n",
    "import numpy as np\n",
    "import pickle\n",
    "import torch\n",
    "import os\n",
    "\n",
    "# Define Model\n",
    "class SimpleNet(nn.Module):\n",
    "    def __init__(self):\n",
    "        super(SimpleNet, self).__init__()\n",
    "        self.conv0   = nn.Conv2d    (   3,  8,   kernel_size=(3, 3),     bias=False  , padding=1)   \n",
    "        self.max0    = nn.MaxPool2d (            kernel_size=(2,2)                   )   \n",
    "        self.conv1   = nn.Conv2d    (   8,  16,  kernel_size=(3, 3),     bias=False , padding=1 )   \n",
    "        self.max1    = nn.MaxPool2d (            kernel_size=(2,2)                   )   \n",
    "        self.flat    = nn.Flatten   (                                                )   \n",
    "        self.linear0 = nn.Linear    (            1024,  512                           )\n",
    "        self.linear1 = nn.Linear    (            512,  10                            )\n",
    "        self.soft    = nn.Softmax   (            dim=1                               )\n",
    "        \n",
    "        self.debug=False\n",
    "        \n",
    "\n",
    "    def forward(self,x):\n",
    "        x_conv0      = self.conv0     (   x              )  \n",
    "        x_max0       = self.max0      (   x_conv0        )\n",
    "        x_conv1      = self.conv1     (   x_max0         )  \n",
    "        x_max1       = self.max1      (   x_conv1        )\n",
    "        x_flat       = self.flat      (   x_max1         )\n",
    "        x_linear0    = self.linear0   (   x_flat         )\n",
    "        x_linear1    = self.linear1   (   x_linear0      )\n",
    "        x_prob       = self.soft      (   x_linear1      )\n",
    "\n",
    "            \n",
    "        return x_prob\n",
    "\n",
    "# Initialize model and print\n",
    "\n",
    "model = SimpleNet()\n"
   ]
  },
  {
   "cell_type": "code",
   "execution_count": 8,
   "id": "486eb203-25b0-4d01-b949-dfd4ad5cc3ce",
   "metadata": {},
   "outputs": [],
   "source": [
    "import torch.optim as optim\n",
    "\n",
    "criterion = nn.CrossEntropyLoss()\n",
    "optimizer = optim.SGD(model.parameters(), lr=0.001, momentum=0.9)"
   ]
  },
  {
   "cell_type": "code",
   "execution_count": 11,
   "id": "bde89992-8ecb-43f5-9b16-646129313647",
   "metadata": {
    "collapsed": true,
    "jupyter": {
     "outputs_hidden": true
    },
    "tags": []
   },
   "outputs": [
    {
     "name": "stdout",
     "output_type": "stream",
     "text": [
      "[1,  2000] loss: 2.246\n",
      "[1,  4000] loss: 2.161\n",
      "[1,  6000] loss: 2.126\n",
      "[1,  8000] loss: 2.101\n",
      "[1, 10000] loss: 2.077\n",
      "[1, 12000] loss: 2.066\n",
      "[2,  2000] loss: 2.063\n",
      "[2,  4000] loss: 2.050\n",
      "[2,  6000] loss: 2.033\n",
      "[2,  8000] loss: 2.028\n",
      "[2, 10000] loss: 2.040\n",
      "[2, 12000] loss: 2.033\n",
      "[3,  2000] loss: 2.018\n",
      "[3,  4000] loss: 2.006\n",
      "[3,  6000] loss: 2.015\n",
      "[3,  8000] loss: 2.015\n",
      "[3, 10000] loss: 2.001\n",
      "[3, 12000] loss: 2.004\n",
      "[4,  2000] loss: 2.002\n",
      "[4,  4000] loss: 1.981\n",
      "[4,  6000] loss: 1.991\n",
      "[4,  8000] loss: 1.990\n",
      "[4, 10000] loss: 1.964\n",
      "[4, 12000] loss: 1.981\n",
      "[5,  2000] loss: 1.964\n",
      "[5,  4000] loss: 1.957\n",
      "[5,  6000] loss: 1.975\n",
      "[5,  8000] loss: 1.959\n",
      "[5, 10000] loss: 1.964\n",
      "[5, 12000] loss: 1.965\n",
      "[6,  2000] loss: 1.951\n",
      "[6,  4000] loss: 1.937\n",
      "[6,  6000] loss: 1.935\n",
      "[6,  8000] loss: 1.938\n",
      "[6, 10000] loss: 1.949\n",
      "[6, 12000] loss: 1.944\n",
      "[7,  2000] loss: 1.925\n",
      "[7,  4000] loss: 1.933\n",
      "[7,  6000] loss: 1.930\n",
      "[7,  8000] loss: 1.921\n",
      "[7, 10000] loss: 1.921\n",
      "[7, 12000] loss: 1.931\n",
      "[8,  2000] loss: 1.919\n",
      "[8,  4000] loss: 1.923\n",
      "[8,  6000] loss: 1.914\n",
      "[8,  8000] loss: 1.919\n",
      "[8, 10000] loss: 1.923\n",
      "[8, 12000] loss: 1.918\n",
      "[9,  2000] loss: 1.909\n",
      "[9,  4000] loss: 1.908\n",
      "[9,  6000] loss: 1.913\n",
      "[9,  8000] loss: 1.910\n",
      "[9, 10000] loss: 1.925\n",
      "[9, 12000] loss: 1.918\n",
      "[10,  2000] loss: 1.918\n",
      "[10,  4000] loss: 1.912\n",
      "[10,  6000] loss: 1.918\n",
      "[10,  8000] loss: 1.918\n",
      "[10, 10000] loss: 1.910\n",
      "[10, 12000] loss: 1.909\n"
     ]
    }
   ],
   "source": [
    "for epoch in range(nepochs):  # loop over the dataset multiple times\n",
    "    model.to(device)\n",
    "    running_loss = 0.0\n",
    "    for i, data in enumerate(trainloader, 0):\n",
    "        # get the inputs; data is a list of [inputs, labels]\n",
    "        inputs, labels = data[0].to(device), data[1].to(device)\n",
    "\n",
    "        # zero the parameter gradients\n",
    "        optimizer.zero_grad()\n",
    "\n",
    "        # forward + backward + optimize\n",
    "        outputs = model(inputs)\n",
    "        loss = criterion(outputs, labels)\n",
    "        loss.backward()\n",
    "\n",
    "        optimizer.step()\n",
    "\n",
    "        # print statistics\n",
    "        running_loss += loss.item()\n",
    "        if i % 2000 == 1999:    # print every 2000 mini-batches\n",
    "            print(f'[{epoch + 1}, {i + 1:5d}] loss: {running_loss / 2000:.3f}')\n",
    "            running_loss = 0.0\n"
   ]
  },
  {
   "cell_type": "markdown",
   "id": "2148ea03-faaa-4978-9730-b2c976a8e80a",
   "metadata": {},
   "source": [
    "# Display "
   ]
  },
  {
   "cell_type": "code",
   "execution_count": 12,
   "id": "85958e14-aa2d-4661-92b5-984dcfe504ee",
   "metadata": {},
   "outputs": [],
   "source": [
    "model_path = './weights/cifar_torch_simple_10epoch_1.pth'\n",
    "torch.save(model.state_dict(), model_path)"
   ]
  },
  {
   "cell_type": "code",
   "execution_count": null,
   "id": "77ecf83f-7f2b-4806-a799-9f973bcf424b",
   "metadata": {},
   "outputs": [],
   "source": [
    "model = SimpleNet()\n",
    "model.load_state_dict(torch.load(model_path))"
   ]
  },
  {
   "cell_type": "code",
   "execution_count": 13,
   "id": "b09cd40e-d0c4-4165-ab3d-5cd178dbb299",
   "metadata": {},
   "outputs": [
    {
     "name": "stdout",
     "output_type": "stream",
     "text": [
      "Files already downloaded and verified\n"
     ]
    }
   ],
   "source": [
    "import torchvision\n",
    "from torch.utils.data import DataLoader\n",
    "from torchvision import datasets\n",
    "from torchvision.transforms import ToTensor, ToPILImage\n",
    "\n",
    "data_folder = '../../data/cifar'\n",
    "\n",
    "tedt = datasets.CIFAR10(\n",
    "    root=data_folder,\n",
    "    train=False,\n",
    "    download=True,\n",
    "    transform=ToTensor(),\n",
    ")\n",
    "\n",
    "tedl = DataLoader(tedt, batch_size=4)\n",
    "\n",
    "teit = iter(tedl)"
   ]
  },
  {
   "cell_type": "code",
   "execution_count": 14,
   "id": "254f1a16-be59-4d9d-a2a0-66e08966e033",
   "metadata": {},
   "outputs": [
    {
     "data": {
      "image/png": "[encoded data removed]",
      "text/plain": [
       "<Figure size 432x288 with 1 Axes>"
      ]
     },
     "metadata": {},
     "output_type": "display_data"
    }
   ],
   "source": [
    "x,y = next(teit)\n",
    "# draw samples\n",
    "from torchvision.utils import make_grid\n",
    "from utils import show\n",
    "show(make_grid(x))"
   ]
  },
  {
   "cell_type": "code",
   "execution_count": 17,
   "id": "0a3e6bb5-17cf-41e1-9f10-3d4a92628c9e",
   "metadata": {},
   "outputs": [
    {
     "name": "stdout",
     "output_type": "stream",
     "text": [
      "GT: [3, 8, 8, 0]  \n",
      " Pre: [3, 0, 5, 0]\n",
      "GT: ['cat', 'ship', 'ship', 'airplane'] \n",
      " Pre: ['cat', 'airplane', 'dog', 'airplane']\n"
     ]
    }
   ],
   "source": [
    "# predict\n",
    "x = x.to(device)\n",
    "model.to(device)\n",
    "\n",
    "pre = model(x)\n",
    "\n",
    "pre_arg = pre.argmax(1)\n",
    "\n",
    "print(f'GT: {y.tolist()}  \\n Pre: {pre_arg.tolist()}')\n",
    "print(f'GT: {[tedt.classes[i] for i in y]} \\n Pre: {[tedt.classes[i] for i in pre_arg]}')"
   ]
  },
  {
   "cell_type": "code",
   "execution_count": null,
   "id": "5c5b9f94-00c1-47d5-8caf-5f53e7a58d35",
   "metadata": {},
   "outputs": [],
   "source": []
  }
 ],
 "metadata": {
  "kernelspec": {
   "display_name": "torch0",
   "language": "python",
   "name": "torch0"
  },
  "language_info": {
   "codemirror_mode": {
    "name": "ipython",
    "version": 3
   },
   "file_extension": ".py",
   "mimetype": "text/x-python",
   "name": "python",
   "nbconvert_exporter": "python",
   "pygments_lexer": "ipython3",
   "version": "3.6.13"
  }
 },
 "nbformat": 4,
 "nbformat_minor": 5
}
